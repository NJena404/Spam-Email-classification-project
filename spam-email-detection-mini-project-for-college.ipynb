{
 "cells": [
  {
   "cell_type": "markdown",
   "id": "0baef873",
   "metadata": {
    "papermill": {
     "duration": 0.018348,
     "end_time": "2022-03-27T16:21:03.545969",
     "exception": false,
     "start_time": "2022-03-27T16:21:03.527621",
     "status": "completed"
    },
    "tags": []
   },
   "source": [
    "**Library Import**"
   ]
  },
  {
   "cell_type": "code",
   "execution_count": 1,
   "id": "216c66bc",
   "metadata": {
    "execution": {
     "iopub.execute_input": "2022-03-27T16:21:03.590752Z",
     "iopub.status.busy": "2022-03-27T16:21:03.584524Z",
     "iopub.status.idle": "2022-03-27T16:21:04.723388Z",
     "shell.execute_reply": "2022-03-27T16:21:04.722547Z",
     "shell.execute_reply.started": "2022-03-27T16:19:06.210916Z"
    },
    "papermill": {
     "duration": 1.159631,
     "end_time": "2022-03-27T16:21:04.723582",
     "exception": false,
     "start_time": "2022-03-27T16:21:03.563951",
     "status": "completed"
    },
    "tags": []
   },
   "outputs": [],
   "source": [
    "import pandas as pd\n",
    "import numpy as np\n",
    "import matplotlib.pyplot as plt\n",
    "import seaborn as sns"
   ]
  },
  {
   "cell_type": "markdown",
   "id": "76645f68",
   "metadata": {
    "papermill": {
     "duration": 0.017767,
     "end_time": "2022-03-27T16:21:04.759733",
     "exception": false,
     "start_time": "2022-03-27T16:21:04.741966",
     "status": "completed"
    },
    "tags": []
   },
   "source": [
    "**Dataset overview and Converting categorical value to numerical**"
   ]
  },
  {
   "cell_type": "code",
   "execution_count": 2,
   "id": "37ab4d15",
   "metadata": {
    "execution": {
     "iopub.execute_input": "2022-03-27T16:21:04.801028Z",
     "iopub.status.busy": "2022-03-27T16:21:04.798106Z",
     "iopub.status.idle": "2022-03-27T16:21:04.851386Z",
     "shell.execute_reply": "2022-03-27T16:21:04.851930Z",
     "shell.execute_reply.started": "2022-03-27T16:19:06.280675Z"
    },
    "papermill": {
     "duration": 0.074765,
     "end_time": "2022-03-27T16:21:04.852109",
     "exception": false,
     "start_time": "2022-03-27T16:21:04.777344",
     "status": "completed"
    },
    "tags": []
   },
   "outputs": [
    {
     "data": {
      "text/html": [
       "<div>\n",
       "<style scoped>\n",
       "    .dataframe tbody tr th:only-of-type {\n",
       "        vertical-align: middle;\n",
       "    }\n",
       "\n",
       "    .dataframe tbody tr th {\n",
       "        vertical-align: top;\n",
       "    }\n",
       "\n",
       "    .dataframe thead th {\n",
       "        text-align: right;\n",
       "    }\n",
       "</style>\n",
       "<table border=\"1\" class=\"dataframe\">\n",
       "  <thead>\n",
       "    <tr style=\"text-align: right;\">\n",
       "      <th></th>\n",
       "      <th>v1</th>\n",
       "      <th>v2</th>\n",
       "      <th>Unnamed: 2</th>\n",
       "      <th>Unnamed: 3</th>\n",
       "      <th>Unnamed: 4</th>\n",
       "    </tr>\n",
       "  </thead>\n",
       "  <tbody>\n",
       "    <tr>\n",
       "      <th>0</th>\n",
       "      <td>ham</td>\n",
       "      <td>Go until jurong point, crazy.. Available only ...</td>\n",
       "      <td>NaN</td>\n",
       "      <td>NaN</td>\n",
       "      <td>NaN</td>\n",
       "    </tr>\n",
       "    <tr>\n",
       "      <th>1</th>\n",
       "      <td>ham</td>\n",
       "      <td>Ok lar... Joking wif u oni...</td>\n",
       "      <td>NaN</td>\n",
       "      <td>NaN</td>\n",
       "      <td>NaN</td>\n",
       "    </tr>\n",
       "    <tr>\n",
       "      <th>2</th>\n",
       "      <td>spam</td>\n",
       "      <td>Free entry in 2 a wkly comp to win FA Cup fina...</td>\n",
       "      <td>NaN</td>\n",
       "      <td>NaN</td>\n",
       "      <td>NaN</td>\n",
       "    </tr>\n",
       "    <tr>\n",
       "      <th>3</th>\n",
       "      <td>ham</td>\n",
       "      <td>U dun say so early hor... U c already then say...</td>\n",
       "      <td>NaN</td>\n",
       "      <td>NaN</td>\n",
       "      <td>NaN</td>\n",
       "    </tr>\n",
       "    <tr>\n",
       "      <th>4</th>\n",
       "      <td>ham</td>\n",
       "      <td>Nah I don't think he goes to usf, he lives aro...</td>\n",
       "      <td>NaN</td>\n",
       "      <td>NaN</td>\n",
       "      <td>NaN</td>\n",
       "    </tr>\n",
       "    <tr>\n",
       "      <th>...</th>\n",
       "      <td>...</td>\n",
       "      <td>...</td>\n",
       "      <td>...</td>\n",
       "      <td>...</td>\n",
       "      <td>...</td>\n",
       "    </tr>\n",
       "    <tr>\n",
       "      <th>5567</th>\n",
       "      <td>spam</td>\n",
       "      <td>This is the 2nd time we have tried 2 contact u...</td>\n",
       "      <td>NaN</td>\n",
       "      <td>NaN</td>\n",
       "      <td>NaN</td>\n",
       "    </tr>\n",
       "    <tr>\n",
       "      <th>5568</th>\n",
       "      <td>ham</td>\n",
       "      <td>Will Ì_ b going to esplanade fr home?</td>\n",
       "      <td>NaN</td>\n",
       "      <td>NaN</td>\n",
       "      <td>NaN</td>\n",
       "    </tr>\n",
       "    <tr>\n",
       "      <th>5569</th>\n",
       "      <td>ham</td>\n",
       "      <td>Pity, * was in mood for that. So...any other s...</td>\n",
       "      <td>NaN</td>\n",
       "      <td>NaN</td>\n",
       "      <td>NaN</td>\n",
       "    </tr>\n",
       "    <tr>\n",
       "      <th>5570</th>\n",
       "      <td>ham</td>\n",
       "      <td>The guy did some bitching but I acted like i'd...</td>\n",
       "      <td>NaN</td>\n",
       "      <td>NaN</td>\n",
       "      <td>NaN</td>\n",
       "    </tr>\n",
       "    <tr>\n",
       "      <th>5571</th>\n",
       "      <td>ham</td>\n",
       "      <td>Rofl. Its true to its name</td>\n",
       "      <td>NaN</td>\n",
       "      <td>NaN</td>\n",
       "      <td>NaN</td>\n",
       "    </tr>\n",
       "  </tbody>\n",
       "</table>\n",
       "<p>5572 rows × 5 columns</p>\n",
       "</div>"
      ],
      "text/plain": [
       "        v1                                                 v2 Unnamed: 2  \\\n",
       "0      ham  Go until jurong point, crazy.. Available only ...        NaN   \n",
       "1      ham                      Ok lar... Joking wif u oni...        NaN   \n",
       "2     spam  Free entry in 2 a wkly comp to win FA Cup fina...        NaN   \n",
       "3      ham  U dun say so early hor... U c already then say...        NaN   \n",
       "4      ham  Nah I don't think he goes to usf, he lives aro...        NaN   \n",
       "...    ...                                                ...        ...   \n",
       "5567  spam  This is the 2nd time we have tried 2 contact u...        NaN   \n",
       "5568   ham              Will Ì_ b going to esplanade fr home?        NaN   \n",
       "5569   ham  Pity, * was in mood for that. So...any other s...        NaN   \n",
       "5570   ham  The guy did some bitching but I acted like i'd...        NaN   \n",
       "5571   ham                         Rofl. Its true to its name        NaN   \n",
       "\n",
       "     Unnamed: 3 Unnamed: 4  \n",
       "0           NaN        NaN  \n",
       "1           NaN        NaN  \n",
       "2           NaN        NaN  \n",
       "3           NaN        NaN  \n",
       "4           NaN        NaN  \n",
       "...         ...        ...  \n",
       "5567        NaN        NaN  \n",
       "5568        NaN        NaN  \n",
       "5569        NaN        NaN  \n",
       "5570        NaN        NaN  \n",
       "5571        NaN        NaN  \n",
       "\n",
       "[5572 rows x 5 columns]"
      ]
     },
     "execution_count": 2,
     "metadata": {},
     "output_type": "execute_result"
    }
   ],
   "source": [
    "df=pd.read_csv('/kaggle/input/spam-sms/spamsms.csv',encoding=('ISO-8859-1'))\n",
    "df"
   ]
  },
  {
   "cell_type": "code",
   "execution_count": 3,
   "id": "ee3f3574",
   "metadata": {
    "execution": {
     "iopub.execute_input": "2022-03-27T16:21:04.907961Z",
     "iopub.status.busy": "2022-03-27T16:21:04.896892Z",
     "iopub.status.idle": "2022-03-27T16:21:04.927960Z",
     "shell.execute_reply": "2022-03-27T16:21:04.927268Z",
     "shell.execute_reply.started": "2022-03-27T16:19:06.333828Z"
    },
    "papermill": {
     "duration": 0.05831,
     "end_time": "2022-03-27T16:21:04.928103",
     "exception": false,
     "start_time": "2022-03-27T16:21:04.869793",
     "status": "completed"
    },
    "tags": []
   },
   "outputs": [
    {
     "data": {
      "text/html": [
       "<div>\n",
       "<style scoped>\n",
       "    .dataframe tbody tr th:only-of-type {\n",
       "        vertical-align: middle;\n",
       "    }\n",
       "\n",
       "    .dataframe tbody tr th {\n",
       "        vertical-align: top;\n",
       "    }\n",
       "\n",
       "    .dataframe thead th {\n",
       "        text-align: right;\n",
       "    }\n",
       "</style>\n",
       "<table border=\"1\" class=\"dataframe\">\n",
       "  <thead>\n",
       "    <tr style=\"text-align: right;\">\n",
       "      <th></th>\n",
       "      <th>v1</th>\n",
       "      <th>v2</th>\n",
       "      <th>Unnamed: 2</th>\n",
       "      <th>Unnamed: 3</th>\n",
       "      <th>Unnamed: 4</th>\n",
       "    </tr>\n",
       "  </thead>\n",
       "  <tbody>\n",
       "    <tr>\n",
       "      <th>count</th>\n",
       "      <td>5572</td>\n",
       "      <td>5572</td>\n",
       "      <td>50</td>\n",
       "      <td>12</td>\n",
       "      <td>6</td>\n",
       "    </tr>\n",
       "    <tr>\n",
       "      <th>unique</th>\n",
       "      <td>2</td>\n",
       "      <td>5169</td>\n",
       "      <td>43</td>\n",
       "      <td>10</td>\n",
       "      <td>5</td>\n",
       "    </tr>\n",
       "    <tr>\n",
       "      <th>top</th>\n",
       "      <td>ham</td>\n",
       "      <td>Sorry, I'll call later</td>\n",
       "      <td>bt not his girlfrnd... G o o d n i g h t . . .@\"</td>\n",
       "      <td>MK17 92H. 450Ppw 16\"</td>\n",
       "      <td>GNT:-)\"</td>\n",
       "    </tr>\n",
       "    <tr>\n",
       "      <th>freq</th>\n",
       "      <td>4825</td>\n",
       "      <td>30</td>\n",
       "      <td>3</td>\n",
       "      <td>2</td>\n",
       "      <td>2</td>\n",
       "    </tr>\n",
       "  </tbody>\n",
       "</table>\n",
       "</div>"
      ],
      "text/plain": [
       "          v1                      v2  \\\n",
       "count   5572                    5572   \n",
       "unique     2                    5169   \n",
       "top      ham  Sorry, I'll call later   \n",
       "freq    4825                      30   \n",
       "\n",
       "                                               Unnamed: 2  \\\n",
       "count                                                  50   \n",
       "unique                                                 43   \n",
       "top      bt not his girlfrnd... G o o d n i g h t . . .@\"   \n",
       "freq                                                    3   \n",
       "\n",
       "                   Unnamed: 3 Unnamed: 4  \n",
       "count                      12          6  \n",
       "unique                     10          5  \n",
       "top      MK17 92H. 450Ppw 16\"    GNT:-)\"  \n",
       "freq                        2          2  "
      ]
     },
     "execution_count": 3,
     "metadata": {},
     "output_type": "execute_result"
    }
   ],
   "source": [
    "df.describe()"
   ]
  },
  {
   "cell_type": "code",
   "execution_count": 4,
   "id": "3fba815a",
   "metadata": {
    "execution": {
     "iopub.execute_input": "2022-03-27T16:21:04.969241Z",
     "iopub.status.busy": "2022-03-27T16:21:04.968554Z",
     "iopub.status.idle": "2022-03-27T16:21:04.981024Z",
     "shell.execute_reply": "2022-03-27T16:21:04.981614Z",
     "shell.execute_reply.started": "2022-03-27T16:19:06.377368Z"
    },
    "papermill": {
     "duration": 0.034703,
     "end_time": "2022-03-27T16:21:04.981828",
     "exception": false,
     "start_time": "2022-03-27T16:21:04.947125",
     "status": "completed"
    },
    "tags": []
   },
   "outputs": [
    {
     "data": {
      "text/html": [
       "<div>\n",
       "<style scoped>\n",
       "    .dataframe tbody tr th:only-of-type {\n",
       "        vertical-align: middle;\n",
       "    }\n",
       "\n",
       "    .dataframe tbody tr th {\n",
       "        vertical-align: top;\n",
       "    }\n",
       "\n",
       "    .dataframe thead th {\n",
       "        text-align: right;\n",
       "    }\n",
       "</style>\n",
       "<table border=\"1\" class=\"dataframe\">\n",
       "  <thead>\n",
       "    <tr style=\"text-align: right;\">\n",
       "      <th></th>\n",
       "      <th>v1</th>\n",
       "      <th>v2</th>\n",
       "    </tr>\n",
       "  </thead>\n",
       "  <tbody>\n",
       "    <tr>\n",
       "      <th>0</th>\n",
       "      <td>ham</td>\n",
       "      <td>Go until jurong point, crazy.. Available only ...</td>\n",
       "    </tr>\n",
       "    <tr>\n",
       "      <th>1</th>\n",
       "      <td>ham</td>\n",
       "      <td>Ok lar... Joking wif u oni...</td>\n",
       "    </tr>\n",
       "    <tr>\n",
       "      <th>2</th>\n",
       "      <td>spam</td>\n",
       "      <td>Free entry in 2 a wkly comp to win FA Cup fina...</td>\n",
       "    </tr>\n",
       "    <tr>\n",
       "      <th>3</th>\n",
       "      <td>ham</td>\n",
       "      <td>U dun say so early hor... U c already then say...</td>\n",
       "    </tr>\n",
       "    <tr>\n",
       "      <th>4</th>\n",
       "      <td>ham</td>\n",
       "      <td>Nah I don't think he goes to usf, he lives aro...</td>\n",
       "    </tr>\n",
       "    <tr>\n",
       "      <th>...</th>\n",
       "      <td>...</td>\n",
       "      <td>...</td>\n",
       "    </tr>\n",
       "    <tr>\n",
       "      <th>5567</th>\n",
       "      <td>spam</td>\n",
       "      <td>This is the 2nd time we have tried 2 contact u...</td>\n",
       "    </tr>\n",
       "    <tr>\n",
       "      <th>5568</th>\n",
       "      <td>ham</td>\n",
       "      <td>Will Ì_ b going to esplanade fr home?</td>\n",
       "    </tr>\n",
       "    <tr>\n",
       "      <th>5569</th>\n",
       "      <td>ham</td>\n",
       "      <td>Pity, * was in mood for that. So...any other s...</td>\n",
       "    </tr>\n",
       "    <tr>\n",
       "      <th>5570</th>\n",
       "      <td>ham</td>\n",
       "      <td>The guy did some bitching but I acted like i'd...</td>\n",
       "    </tr>\n",
       "    <tr>\n",
       "      <th>5571</th>\n",
       "      <td>ham</td>\n",
       "      <td>Rofl. Its true to its name</td>\n",
       "    </tr>\n",
       "  </tbody>\n",
       "</table>\n",
       "<p>5572 rows × 2 columns</p>\n",
       "</div>"
      ],
      "text/plain": [
       "        v1                                                 v2\n",
       "0      ham  Go until jurong point, crazy.. Available only ...\n",
       "1      ham                      Ok lar... Joking wif u oni...\n",
       "2     spam  Free entry in 2 a wkly comp to win FA Cup fina...\n",
       "3      ham  U dun say so early hor... U c already then say...\n",
       "4      ham  Nah I don't think he goes to usf, he lives aro...\n",
       "...    ...                                                ...\n",
       "5567  spam  This is the 2nd time we have tried 2 contact u...\n",
       "5568   ham              Will Ì_ b going to esplanade fr home?\n",
       "5569   ham  Pity, * was in mood for that. So...any other s...\n",
       "5570   ham  The guy did some bitching but I acted like i'd...\n",
       "5571   ham                         Rofl. Its true to its name\n",
       "\n",
       "[5572 rows x 2 columns]"
      ]
     },
     "execution_count": 4,
     "metadata": {},
     "output_type": "execute_result"
    }
   ],
   "source": [
    "df = df.filter(['v1', 'v2'])\n",
    "df"
   ]
  },
  {
   "cell_type": "code",
   "execution_count": 5,
   "id": "319c554e",
   "metadata": {
    "execution": {
     "iopub.execute_input": "2022-03-27T16:21:05.023870Z",
     "iopub.status.busy": "2022-03-27T16:21:05.023162Z",
     "iopub.status.idle": "2022-03-27T16:21:05.057573Z",
     "shell.execute_reply": "2022-03-27T16:21:05.057018Z",
     "shell.execute_reply.started": "2022-03-27T16:19:06.417576Z"
    },
    "papermill": {
     "duration": 0.057148,
     "end_time": "2022-03-27T16:21:05.057728",
     "exception": false,
     "start_time": "2022-03-27T16:21:05.000580",
     "status": "completed"
    },
    "tags": []
   },
   "outputs": [
    {
     "data": {
      "text/html": [
       "<div>\n",
       "<style scoped>\n",
       "    .dataframe tbody tr th:only-of-type {\n",
       "        vertical-align: middle;\n",
       "    }\n",
       "\n",
       "    .dataframe tbody tr th {\n",
       "        vertical-align: top;\n",
       "    }\n",
       "\n",
       "    .dataframe thead tr th {\n",
       "        text-align: left;\n",
       "    }\n",
       "\n",
       "    .dataframe thead tr:last-of-type th {\n",
       "        text-align: right;\n",
       "    }\n",
       "</style>\n",
       "<table border=\"1\" class=\"dataframe\">\n",
       "  <thead>\n",
       "    <tr>\n",
       "      <th></th>\n",
       "      <th colspan=\"4\" halign=\"left\">v2</th>\n",
       "    </tr>\n",
       "    <tr>\n",
       "      <th></th>\n",
       "      <th>count</th>\n",
       "      <th>unique</th>\n",
       "      <th>top</th>\n",
       "      <th>freq</th>\n",
       "    </tr>\n",
       "    <tr>\n",
       "      <th>v1</th>\n",
       "      <th></th>\n",
       "      <th></th>\n",
       "      <th></th>\n",
       "      <th></th>\n",
       "    </tr>\n",
       "  </thead>\n",
       "  <tbody>\n",
       "    <tr>\n",
       "      <th>ham</th>\n",
       "      <td>4825</td>\n",
       "      <td>4516</td>\n",
       "      <td>Sorry, I'll call later</td>\n",
       "      <td>30</td>\n",
       "    </tr>\n",
       "    <tr>\n",
       "      <th>spam</th>\n",
       "      <td>747</td>\n",
       "      <td>653</td>\n",
       "      <td>Please call our customer service representativ...</td>\n",
       "      <td>4</td>\n",
       "    </tr>\n",
       "  </tbody>\n",
       "</table>\n",
       "</div>"
      ],
      "text/plain": [
       "        v2                                                               \n",
       "     count unique                                                top freq\n",
       "v1                                                                       \n",
       "ham   4825   4516                             Sorry, I'll call later   30\n",
       "spam   747    653  Please call our customer service representativ...    4"
      ]
     },
     "execution_count": 5,
     "metadata": {},
     "output_type": "execute_result"
    }
   ],
   "source": [
    "df.groupby('v1').describe()"
   ]
  },
  {
   "cell_type": "code",
   "execution_count": 6,
   "id": "af99af1b",
   "metadata": {
    "execution": {
     "iopub.execute_input": "2022-03-27T16:21:05.101427Z",
     "iopub.status.busy": "2022-03-27T16:21:05.100684Z",
     "iopub.status.idle": "2022-03-27T16:21:05.325022Z",
     "shell.execute_reply": "2022-03-27T16:21:05.324433Z",
     "shell.execute_reply.started": "2022-03-27T16:19:06.470327Z"
    },
    "papermill": {
     "duration": 0.24721,
     "end_time": "2022-03-27T16:21:05.325174",
     "exception": false,
     "start_time": "2022-03-27T16:21:05.077964",
     "status": "completed"
    },
    "tags": []
   },
   "outputs": [
    {
     "data": {
      "text/plain": [
       "<AxesSubplot:>"
      ]
     },
     "execution_count": 6,
     "metadata": {},
     "output_type": "execute_result"
    },
    {
     "data": {
      "image/png": "[encoded data removed]",
      "text/plain": [
       "<Figure size 432x288 with 1 Axes>"
      ]
     },
     "metadata": {
      "needs_background": "light"
     },
     "output_type": "display_data"
    }
   ],
   "source": [
    "df.v1.value_counts().plot(kind='bar')"
   ]
  },
  {
   "cell_type": "code",
   "execution_count": 7,
   "id": "9ddbf8dd",
   "metadata": {
    "execution": {
     "iopub.execute_input": "2022-03-27T16:21:05.371173Z",
     "iopub.status.busy": "2022-03-27T16:21:05.370402Z",
     "iopub.status.idle": "2022-03-27T16:21:05.381064Z",
     "shell.execute_reply": "2022-03-27T16:21:05.381505Z",
     "shell.execute_reply.started": "2022-03-27T16:19:06.666236Z"
    },
    "papermill": {
     "duration": 0.035828,
     "end_time": "2022-03-27T16:21:05.381692",
     "exception": false,
     "start_time": "2022-03-27T16:21:05.345864",
     "status": "completed"
    },
    "tags": []
   },
   "outputs": [
    {
     "data": {
      "text/html": [
       "<div>\n",
       "<style scoped>\n",
       "    .dataframe tbody tr th:only-of-type {\n",
       "        vertical-align: middle;\n",
       "    }\n",
       "\n",
       "    .dataframe tbody tr th {\n",
       "        vertical-align: top;\n",
       "    }\n",
       "\n",
       "    .dataframe thead th {\n",
       "        text-align: right;\n",
       "    }\n",
       "</style>\n",
       "<table border=\"1\" class=\"dataframe\">\n",
       "  <thead>\n",
       "    <tr style=\"text-align: right;\">\n",
       "      <th></th>\n",
       "      <th>Output column</th>\n",
       "      <th>Input_column</th>\n",
       "    </tr>\n",
       "  </thead>\n",
       "  <tbody>\n",
       "    <tr>\n",
       "      <th>0</th>\n",
       "      <td>ham</td>\n",
       "      <td>Go until jurong point, crazy.. Available only ...</td>\n",
       "    </tr>\n",
       "    <tr>\n",
       "      <th>1</th>\n",
       "      <td>ham</td>\n",
       "      <td>Ok lar... Joking wif u oni...</td>\n",
       "    </tr>\n",
       "    <tr>\n",
       "      <th>2</th>\n",
       "      <td>spam</td>\n",
       "      <td>Free entry in 2 a wkly comp to win FA Cup fina...</td>\n",
       "    </tr>\n",
       "    <tr>\n",
       "      <th>3</th>\n",
       "      <td>ham</td>\n",
       "      <td>U dun say so early hor... U c already then say...</td>\n",
       "    </tr>\n",
       "    <tr>\n",
       "      <th>4</th>\n",
       "      <td>ham</td>\n",
       "      <td>Nah I don't think he goes to usf, he lives aro...</td>\n",
       "    </tr>\n",
       "    <tr>\n",
       "      <th>...</th>\n",
       "      <td>...</td>\n",
       "      <td>...</td>\n",
       "    </tr>\n",
       "    <tr>\n",
       "      <th>5567</th>\n",
       "      <td>spam</td>\n",
       "      <td>This is the 2nd time we have tried 2 contact u...</td>\n",
       "    </tr>\n",
       "    <tr>\n",
       "      <th>5568</th>\n",
       "      <td>ham</td>\n",
       "      <td>Will Ì_ b going to esplanade fr home?</td>\n",
       "    </tr>\n",
       "    <tr>\n",
       "      <th>5569</th>\n",
       "      <td>ham</td>\n",
       "      <td>Pity, * was in mood for that. So...any other s...</td>\n",
       "    </tr>\n",
       "    <tr>\n",
       "      <th>5570</th>\n",
       "      <td>ham</td>\n",
       "      <td>The guy did some bitching but I acted like i'd...</td>\n",
       "    </tr>\n",
       "    <tr>\n",
       "      <th>5571</th>\n",
       "      <td>ham</td>\n",
       "      <td>Rofl. Its true to its name</td>\n",
       "    </tr>\n",
       "  </tbody>\n",
       "</table>\n",
       "<p>5572 rows × 2 columns</p>\n",
       "</div>"
      ],
      "text/plain": [
       "     Output column                                       Input_column\n",
       "0              ham  Go until jurong point, crazy.. Available only ...\n",
       "1              ham                      Ok lar... Joking wif u oni...\n",
       "2             spam  Free entry in 2 a wkly comp to win FA Cup fina...\n",
       "3              ham  U dun say so early hor... U c already then say...\n",
       "4              ham  Nah I don't think he goes to usf, he lives aro...\n",
       "...            ...                                                ...\n",
       "5567          spam  This is the 2nd time we have tried 2 contact u...\n",
       "5568           ham              Will Ì_ b going to esplanade fr home?\n",
       "5569           ham  Pity, * was in mood for that. So...any other s...\n",
       "5570           ham  The guy did some bitching but I acted like i'd...\n",
       "5571           ham                         Rofl. Its true to its name\n",
       "\n",
       "[5572 rows x 2 columns]"
      ]
     },
     "execution_count": 7,
     "metadata": {},
     "output_type": "execute_result"
    }
   ],
   "source": [
    "\n",
    "df.columns =['Output column', 'Input_column']\n",
    "df"
   ]
  },
  {
   "cell_type": "markdown",
   "id": "1cc230a8",
   "metadata": {
    "papermill": {
     "duration": 0.023024,
     "end_time": "2022-03-27T16:21:05.426376",
     "exception": false,
     "start_time": "2022-03-27T16:21:05.403352",
     "status": "completed"
    },
    "tags": []
   },
   "source": [
    "**Dummy variable for Output column**"
   ]
  },
  {
   "cell_type": "code",
   "execution_count": 8,
   "id": "f39c0947",
   "metadata": {
    "execution": {
     "iopub.execute_input": "2022-03-27T16:21:05.472337Z",
     "iopub.status.busy": "2022-03-27T16:21:05.471594Z",
     "iopub.status.idle": "2022-03-27T16:21:05.487092Z",
     "shell.execute_reply": "2022-03-27T16:21:05.486389Z",
     "shell.execute_reply.started": "2022-03-27T16:19:06.679898Z"
    },
    "papermill": {
     "duration": 0.039691,
     "end_time": "2022-03-27T16:21:05.487251",
     "exception": false,
     "start_time": "2022-03-27T16:21:05.447560",
     "status": "completed"
    },
    "tags": []
   },
   "outputs": [
    {
     "data": {
      "text/html": [
       "<div>\n",
       "<style scoped>\n",
       "    .dataframe tbody tr th:only-of-type {\n",
       "        vertical-align: middle;\n",
       "    }\n",
       "\n",
       "    .dataframe tbody tr th {\n",
       "        vertical-align: top;\n",
       "    }\n",
       "\n",
       "    .dataframe thead th {\n",
       "        text-align: right;\n",
       "    }\n",
       "</style>\n",
       "<table border=\"1\" class=\"dataframe\">\n",
       "  <thead>\n",
       "    <tr style=\"text-align: right;\">\n",
       "      <th></th>\n",
       "      <th>Input_column</th>\n",
       "      <th>Output column_spam</th>\n",
       "    </tr>\n",
       "  </thead>\n",
       "  <tbody>\n",
       "    <tr>\n",
       "      <th>0</th>\n",
       "      <td>Go until jurong point, crazy.. Available only ...</td>\n",
       "      <td>0</td>\n",
       "    </tr>\n",
       "    <tr>\n",
       "      <th>1</th>\n",
       "      <td>Ok lar... Joking wif u oni...</td>\n",
       "      <td>0</td>\n",
       "    </tr>\n",
       "    <tr>\n",
       "      <th>2</th>\n",
       "      <td>Free entry in 2 a wkly comp to win FA Cup fina...</td>\n",
       "      <td>1</td>\n",
       "    </tr>\n",
       "    <tr>\n",
       "      <th>3</th>\n",
       "      <td>U dun say so early hor... U c already then say...</td>\n",
       "      <td>0</td>\n",
       "    </tr>\n",
       "    <tr>\n",
       "      <th>4</th>\n",
       "      <td>Nah I don't think he goes to usf, he lives aro...</td>\n",
       "      <td>0</td>\n",
       "    </tr>\n",
       "    <tr>\n",
       "      <th>...</th>\n",
       "      <td>...</td>\n",
       "      <td>...</td>\n",
       "    </tr>\n",
       "    <tr>\n",
       "      <th>5567</th>\n",
       "      <td>This is the 2nd time we have tried 2 contact u...</td>\n",
       "      <td>1</td>\n",
       "    </tr>\n",
       "    <tr>\n",
       "      <th>5568</th>\n",
       "      <td>Will Ì_ b going to esplanade fr home?</td>\n",
       "      <td>0</td>\n",
       "    </tr>\n",
       "    <tr>\n",
       "      <th>5569</th>\n",
       "      <td>Pity, * was in mood for that. So...any other s...</td>\n",
       "      <td>0</td>\n",
       "    </tr>\n",
       "    <tr>\n",
       "      <th>5570</th>\n",
       "      <td>The guy did some bitching but I acted like i'd...</td>\n",
       "      <td>0</td>\n",
       "    </tr>\n",
       "    <tr>\n",
       "      <th>5571</th>\n",
       "      <td>Rofl. Its true to its name</td>\n",
       "      <td>0</td>\n",
       "    </tr>\n",
       "  </tbody>\n",
       "</table>\n",
       "<p>5572 rows × 2 columns</p>\n",
       "</div>"
      ],
      "text/plain": [
       "                                           Input_column  Output column_spam\n",
       "0     Go until jurong point, crazy.. Available only ...                   0\n",
       "1                         Ok lar... Joking wif u oni...                   0\n",
       "2     Free entry in 2 a wkly comp to win FA Cup fina...                   1\n",
       "3     U dun say so early hor... U c already then say...                   0\n",
       "4     Nah I don't think he goes to usf, he lives aro...                   0\n",
       "...                                                 ...                 ...\n",
       "5567  This is the 2nd time we have tried 2 contact u...                   1\n",
       "5568              Will Ì_ b going to esplanade fr home?                   0\n",
       "5569  Pity, * was in mood for that. So...any other s...                   0\n",
       "5570  The guy did some bitching but I acted like i'd...                   0\n",
       "5571                         Rofl. Its true to its name                   0\n",
       "\n",
       "[5572 rows x 2 columns]"
      ]
     },
     "execution_count": 8,
     "metadata": {},
     "output_type": "execute_result"
    }
   ],
   "source": [
    "dfe=pd.get_dummies(df,columns=['Output column'],drop_first=True)\n",
    "dfe"
   ]
  },
  {
   "cell_type": "markdown",
   "id": "38c72361",
   "metadata": {
    "papermill": {
     "duration": 0.022327,
     "end_time": "2022-03-27T16:21:05.532195",
     "exception": false,
     "start_time": "2022-03-27T16:21:05.509868",
     "status": "completed"
    },
    "tags": []
   },
   "source": [
    "**Vectorizing the Input column as well**"
   ]
  },
  {
   "cell_type": "code",
   "execution_count": 9,
   "id": "76e77bad",
   "metadata": {
    "execution": {
     "iopub.execute_input": "2022-03-27T16:21:05.582482Z",
     "iopub.status.busy": "2022-03-27T16:21:05.581746Z",
     "iopub.status.idle": "2022-03-27T16:21:05.980932Z",
     "shell.execute_reply": "2022-03-27T16:21:05.980258Z",
     "shell.execute_reply.started": "2022-03-27T16:19:06.698476Z"
    },
    "papermill": {
     "duration": 0.426905,
     "end_time": "2022-03-27T16:21:05.981093",
     "exception": false,
     "start_time": "2022-03-27T16:21:05.554188",
     "status": "completed"
    },
    "tags": []
   },
   "outputs": [],
   "source": [
    "from sklearn.feature_extraction.text import CountVectorizer\n",
    "cv=CountVectorizer()\n",
    "X=cv.fit_transform(dfe['Input_column']).toarray()"
   ]
  },
  {
   "cell_type": "markdown",
   "id": "f38d85b2",
   "metadata": {
    "papermill": {
     "duration": 0.022359,
     "end_time": "2022-03-27T16:21:06.027095",
     "exception": false,
     "start_time": "2022-03-27T16:21:06.004736",
     "status": "completed"
    },
    "tags": []
   },
   "source": []
  },
  {
   "cell_type": "markdown",
   "id": "1a512174",
   "metadata": {
    "papermill": {
     "duration": 0.021648,
     "end_time": "2022-03-27T16:21:06.071167",
     "exception": false,
     "start_time": "2022-03-27T16:21:06.049519",
     "status": "completed"
    },
    "tags": []
   },
   "source": [
    "**Train test split**"
   ]
  },
  {
   "cell_type": "code",
   "execution_count": 10,
   "id": "935cabcb",
   "metadata": {
    "execution": {
     "iopub.execute_input": "2022-03-27T16:21:06.121107Z",
     "iopub.status.busy": "2022-03-27T16:21:06.120420Z",
     "iopub.status.idle": "2022-03-27T16:21:06.376585Z",
     "shell.execute_reply": "2022-03-27T16:21:06.375855Z",
     "shell.execute_reply.started": "2022-03-27T16:19:06.928944Z"
    },
    "papermill": {
     "duration": 0.283454,
     "end_time": "2022-03-27T16:21:06.376737",
     "exception": false,
     "start_time": "2022-03-27T16:21:06.093283",
     "status": "completed"
    },
    "tags": []
   },
   "outputs": [],
   "source": [
    "x=dfe['Input_column']\n",
    "y=dfe['Output column_spam']\n",
    "from sklearn.model_selection import train_test_split\n",
    "x_train,x_test,y_train,y_test=train_test_split(X,y,test_size=0.2,random_state=2)"
   ]
  },
  {
   "cell_type": "markdown",
   "id": "cb6b9667",
   "metadata": {
    "papermill": {
     "duration": 0.021575,
     "end_time": "2022-03-27T16:21:06.420397",
     "exception": false,
     "start_time": "2022-03-27T16:21:06.398822",
     "status": "completed"
    },
    "tags": []
   },
   "source": [
    "**1. Model building and Accurasy testing**"
   ]
  },
  {
   "cell_type": "code",
   "execution_count": 11,
   "id": "5aafe409",
   "metadata": {
    "execution": {
     "iopub.execute_input": "2022-03-27T16:21:06.479678Z",
     "iopub.status.busy": "2022-03-27T16:21:06.478862Z",
     "iopub.status.idle": "2022-03-27T16:21:46.130612Z",
     "shell.execute_reply": "2022-03-27T16:21:46.131205Z",
     "shell.execute_reply.started": "2022-03-27T16:19:07.155577Z"
    },
    "papermill": {
     "duration": 39.688692,
     "end_time": "2022-03-27T16:21:46.131421",
     "exception": false,
     "start_time": "2022-03-27T16:21:06.442729",
     "status": "completed"
    },
    "tags": []
   },
   "outputs": [
    {
     "name": "stdout",
     "output_type": "stream",
     "text": [
      "Gaussian Bayesian 0.8959641255605382\n",
      "[[864  93]\n",
      " [ 23 135]]\n",
      "\n",
      "\n",
      "----------------------------------------\n",
      "Multinomial bayesian 0.9757847533632287\n",
      "[[864  93]\n",
      " [ 23 135]]\n",
      "\n",
      "\n",
      "----------------------------------------\n",
      "Bernoulli Bayesian 0.9757847533632287\n",
      "[[864  93]\n",
      " [ 23 135]]\n",
      "\n",
      "\n",
      "----------------------------------------\n",
      "Logistic regression 0.9766816143497757\n",
      "[[864  93]\n",
      " [ 23 135]]\n",
      "\n",
      "\n",
      "----------------------------------------\n",
      "KNN classifier 0.9452914798206278\n",
      "[[864  93]\n",
      " [ 23 135]]\n",
      "\n",
      "\n",
      "----------------------------------------\n",
      "Supprt vector 0.9820627802690582\n",
      "[[864  93]\n",
      " [ 23 135]]\n"
     ]
    }
   ],
   "source": [
    "from sklearn.naive_bayes import GaussianNB,MultinomialNB,BernoulliNB\n",
    "from sklearn.linear_model import LogisticRegression\n",
    "from sklearn.neighbors import KNeighborsClassifier\n",
    "from sklearn.svm import SVC\n",
    "from sklearn.metrics import accuracy_score,confusion_matrix\n",
    "\n",
    "gnb=GaussianNB()\n",
    "mnb=MultinomialNB()\n",
    "bnm=BernoulliNB()\n",
    "lr=LogisticRegression()\n",
    "kn=KNeighborsClassifier(n_neighbors=1)\n",
    "sv=SVC(kernel = 'linear', C = 1)\n",
    "\n",
    "# For gaussian bayes\n",
    "gnb.fit(x_train,y_train)\n",
    "pred1=gnb.predict(x_test)\n",
    "print('Gaussian Bayesian',accuracy_score(y_test,pred1))\n",
    "print(confusion_matrix(y_test,pred1))\n",
    "print('\\n')\n",
    "print('--'* 20)\n",
    "\n",
    "#For Multinoial bayes\n",
    "mnb.fit(x_train,y_train)\n",
    "pred2=mnb.predict(x_test)\n",
    "print('Multinomial bayesian',accuracy_score(y_test,pred2))\n",
    "print(confusion_matrix(y_test,pred1))\n",
    "print('\\n')\n",
    "print('--'* 20)\n",
    "\n",
    "#For Bernoulli bayesian\n",
    "bnm.fit(x_train,y_train)\n",
    "pred3=bnm.predict(x_test)\n",
    "print('Bernoulli Bayesian',accuracy_score(y_test,pred3))\n",
    "print(confusion_matrix(y_test,pred1))\n",
    "print('\\n')\n",
    "print('--'* 20)\n",
    "\n",
    "#For Logistic regression \n",
    "lr.fit(x_train,y_train)\n",
    "pred4=lr.predict(x_test)\n",
    "print('Logistic regression',accuracy_score(y_test,pred4))\n",
    "print(confusion_matrix(y_test,pred1))\n",
    "print('\\n')\n",
    "print('--'* 20)\n",
    "\n",
    "#For KNN\n",
    "kn.fit(x_train,y_train)\n",
    "pred5=kn.predict(x_test)\n",
    "print('KNN classifier',accuracy_score(y_test,pred5))\n",
    "print(confusion_matrix(y_test,pred1))\n",
    "print('\\n')\n",
    "print('--'* 20)\n",
    "\n",
    "#For Support vector classifier\n",
    "sv.fit(x_train,y_train)\n",
    "pred6=sv.predict(x_test)\n",
    "print('Supprt vector',accuracy_score(y_test,pred6))\n",
    "print(confusion_matrix(y_test,pred1))"
   ]
  },
  {
   "cell_type": "markdown",
   "id": "bdae5550",
   "metadata": {
    "papermill": {
     "duration": 0.023598,
     "end_time": "2022-03-27T16:21:46.178843",
     "exception": false,
     "start_time": "2022-03-27T16:21:46.155245",
     "status": "completed"
    },
    "tags": []
   },
   "source": [
    "# Thank you"
   ]
  }
 ],
 "metadata": {
  "kernelspec": {
   "display_name": "Python 3",
   "language": "python",
   "name": "python3"
  },
  "language_info": {
   "codemirror_mode": {
    "name": "ipython",
    "version": 3
   },
   "file_extension": ".py",
   "mimetype": "text/x-python",
   "name": "python",
   "nbconvert_exporter": "python",
   "pygments_lexer": "ipython3",
   "version": "3.7.12"
  },
  "papermill": {
   "default_parameters": {},
   "duration": 53.945189,
   "end_time": "2022-03-27T16:21:47.216201",
   "environment_variables": {},
   "exception": null,
   "input_path": "__notebook__.ipynb",
   "output_path": "__notebook__.ipynb",
   "parameters": {},
   "start_time": "2022-03-27T16:20:53.271012",
   "version": "2.3.3"
  }
 },
 "nbformat": 4,
 "nbformat_minor": 5
}
